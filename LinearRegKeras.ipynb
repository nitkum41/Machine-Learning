{
  "nbformat": 4,
  "nbformat_minor": 0,
  "metadata": {
    "colab": {
      "name": "LinearRegKeras.ipynb",
      "provenance": [],
      "authorship_tag": "ABX9TyNwb+T3XXH2/PEwrYZhI7cs",
      "include_colab_link": true
    },
    "kernelspec": {
      "name": "python3",
      "display_name": "Python 3"
    },
    "language_info": {
      "name": "python"
    }
  },
  "cells": [
    {
      "cell_type": "markdown",
      "metadata": {
        "id": "view-in-github",
        "colab_type": "text"
      },
      "source": [
        "<a href=\"https://colab.research.google.com/github/nitkum41/Machine-Learning/blob/main/LinearRegKeras.ipynb\" target=\"_parent\"><img src=\"https://colab.research.google.com/assets/colab-badge.svg\" alt=\"Open In Colab\"/></a>"
      ]
    },
    {
      "cell_type": "code",
      "metadata": {
        "id": "BG477kUrxb1W"
      },
      "source": [
        "import keras\n",
        "import numpy as np\n",
        "import pandas as pd\n",
        "import matplotlib.pyplot as plt\n"
      ],
      "execution_count": null,
      "outputs": []
    },
    {
      "cell_type": "code",
      "metadata": {
        "id": "wASlIkCp-TiU"
      },
      "source": [
        "df = pd.read_csv('IowaHousingPrices.csv')"
      ],
      "execution_count": null,
      "outputs": []
    },
    {
      "cell_type": "code",
      "metadata": {
        "id": "wz1tW4AY_gn0"
      },
      "source": [
        "squarefeet = df[['SquareFeet']].values\n",
        "saleprice = df[['SalePrice']].values"
      ],
      "execution_count": null,
      "outputs": []
    },
    {
      "cell_type": "code",
      "metadata": {
        "colab": {
          "base_uri": "https://localhost:8080/"
        },
        "id": "Y7rJobvS_8mT",
        "outputId": "deacb987-56a0-4ebc-c3f6-f1f2c924166e"
      },
      "source": [
        "model = keras.Sequential()\n",
        "model.add(keras.layers.Dense(1,input_shape=(1,)))\n",
        "model.compile(keras.optimizers.Adam(learning_rate=1),'mean_squared_error')\n",
        "\n",
        "model.fit(squarefeet,saleprice,epochs=30,batch_size=10)"
      ],
      "execution_count": null,
      "outputs": [
        {
          "output_type": "stream",
          "text": [
            "Epoch 1/30\n",
            "146/146 [==============================] - 1s 791us/step - loss: 23309068935.8367\n",
            "Epoch 2/30\n",
            "146/146 [==============================] - 0s 852us/step - loss: 3891314214.3129\n",
            "Epoch 3/30\n",
            "146/146 [==============================] - 0s 800us/step - loss: 2853398912.0000\n",
            "Epoch 4/30\n",
            "146/146 [==============================] - 0s 823us/step - loss: 3498926839.2925\n",
            "Epoch 5/30\n",
            "146/146 [==============================] - 0s 783us/step - loss: 2856626499.0476\n",
            "Epoch 6/30\n",
            "146/146 [==============================] - 0s 817us/step - loss: 3696105842.9388\n",
            "Epoch 7/30\n",
            "146/146 [==============================] - 0s 819us/step - loss: 3330826685.8231\n",
            "Epoch 8/30\n",
            "146/146 [==============================] - 0s 803us/step - loss: 2847315010.1769\n",
            "Epoch 9/30\n",
            "146/146 [==============================] - 0s 827us/step - loss: 3076093084.7347\n",
            "Epoch 10/30\n",
            "146/146 [==============================] - 0s 940us/step - loss: 2944825883.8639\n",
            "Epoch 11/30\n",
            "146/146 [==============================] - 0s 776us/step - loss: 2840235914.4490\n",
            "Epoch 12/30\n",
            "146/146 [==============================] - 0s 798us/step - loss: 3459661789.1701\n",
            "Epoch 13/30\n",
            "146/146 [==============================] - 0s 786us/step - loss: 3794651444.2449\n",
            "Epoch 14/30\n",
            "146/146 [==============================] - 0s 864us/step - loss: 2999408378.7755\n",
            "Epoch 15/30\n",
            "146/146 [==============================] - 0s 844us/step - loss: 3316057958.7483\n",
            "Epoch 16/30\n",
            "146/146 [==============================] - 0s 843us/step - loss: 3241834274.8299\n",
            "Epoch 17/30\n",
            "146/146 [==============================] - 0s 839us/step - loss: 3198346407.1837\n",
            "Epoch 18/30\n",
            "146/146 [==============================] - 0s 820us/step - loss: 3288805103.4558\n",
            "Epoch 19/30\n",
            "146/146 [==============================] - 0s 808us/step - loss: 3035521165.9320\n",
            "Epoch 20/30\n",
            "146/146 [==============================] - 0s 799us/step - loss: 3005593225.5782\n",
            "Epoch 21/30\n",
            "146/146 [==============================] - 0s 774us/step - loss: 3121183825.6327\n",
            "Epoch 22/30\n",
            "146/146 [==============================] - 0s 884us/step - loss: 3039456586.8844\n",
            "Epoch 23/30\n",
            "146/146 [==============================] - 0s 820us/step - loss: 3629381708.6259\n",
            "Epoch 24/30\n",
            "146/146 [==============================] - 0s 825us/step - loss: 3455932410.7755\n",
            "Epoch 25/30\n",
            "146/146 [==============================] - 0s 881us/step - loss: 3494329505.9592\n",
            "Epoch 26/30\n",
            "146/146 [==============================] - 0s 847us/step - loss: 3111163661.9320\n",
            "Epoch 27/30\n",
            "146/146 [==============================] - 0s 805us/step - loss: 3652344215.5102\n",
            "Epoch 28/30\n",
            "146/146 [==============================] - 0s 788us/step - loss: 3190349026.3946\n",
            "Epoch 29/30\n",
            "146/146 [==============================] - 0s 816us/step - loss: 3299155253.9864\n",
            "Epoch 30/30\n",
            "146/146 [==============================] - 0s 859us/step - loss: 3401541133.9320\n"
          ],
          "name": "stdout"
        },
        {
          "output_type": "execute_result",
          "data": {
            "text/plain": [
              "<tensorflow.python.keras.callbacks.History at 0x7fc70076d850>"
            ]
          },
          "metadata": {
            "tags": []
          },
          "execution_count": 5
        }
      ]
    },
    {
      "cell_type": "code",
      "metadata": {
        "colab": {
          "base_uri": "https://localhost:8080/",
          "height": 312
        },
        "id": "K8svy7PsCFlV",
        "outputId": "a7fac638-f71d-4ac0-831a-f9f96a5cb967"
      },
      "source": [
        "\n",
        "df.plot(kind= 'scatter',x='SquareFeet', y='SalePrice',title= 'Housing Price')\n",
        "# df.plot() \n",
        "\n",
        "y_pred = model.predict(squarefeet)\n",
        "\n",
        "plt.plot(squarefeet,y_pred,color='red')"
      ],
      "execution_count": null,
      "outputs": [
        {
          "output_type": "execute_result",
          "data": {
            "text/plain": [
              "[<matplotlib.lines.Line2D at 0x7fc6fcbdd750>]"
            ]
          },
          "metadata": {
            "tags": []
          },
          "execution_count": 16
        },
        {
          "output_type": "display_data",
          "data": {
            "image/png": "[encoded data removed]",
            "text/plain": [
              "<Figure size 432x288 with 1 Axes>"
            ]
          },
          "metadata": {
            "tags": [],
            "needs_background": "light"
          }
        }
      ]
    },
    {
      "cell_type": "code",
      "metadata": {
        "colab": {
          "base_uri": "https://localhost:8080/"
        },
        "id": "fIwtSFItEZPE",
        "outputId": "abe8a606-cdba-41e3-b5db-8ee8509f29c3"
      },
      "source": [
        "newSF = 2000\n",
        "print(model.predict([newSF]))"
      ],
      "execution_count": null,
      "outputs": [
        {
          "output_type": "stream",
          "text": [
            "[[231070.17]]\n"
          ],
          "name": "stdout"
        }
      ]
    }
  ]
}