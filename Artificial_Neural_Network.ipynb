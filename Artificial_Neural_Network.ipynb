{
  "nbformat": 4,
  "nbformat_minor": 0,
  "metadata": {
    "colab": {
      "name": "Artificial Neural Network",
      "provenance": [],
      "collapsed_sections": [],
      "include_colab_link": true
    },
    "kernelspec": {
      "name": "python3",
      "display_name": "Python 3"
    }
  },
  "cells": [
    {
      "cell_type": "markdown",
      "metadata": {
        "id": "view-in-github",
        "colab_type": "text"
      },
      "source": [
        "<a href=\"https://colab.research.google.com/github/nitkum41/Machine-Learning/blob/main/Artificial_Neural_Network.ipynb\" target=\"_parent\"><img src=\"https://colab.research.google.com/assets/colab-badge.svg\" alt=\"Open In Colab\"/></a>"
      ]
    },
    {
      "cell_type": "markdown",
      "metadata": {
        "id": "3cbb7fRy-eyr"
      },
      "source": [
        "# Artificial Neural Network"
      ]
    },
    {
      "cell_type": "code",
      "metadata": {
        "colab": {
          "base_uri": "https://localhost:8080/"
        },
        "id": "6HSm0CUWR1GG",
        "outputId": "0fb31d02-26bb-4ab7-f0d3-4f57938922a9"
      },
      "source": [
        "from google.colab import drive\n",
        "drive.mount('/content/drive')"
      ],
      "execution_count": 1,
      "outputs": [
        {
          "output_type": "stream",
          "text": [
            "Mounted at /content/drive\n"
          ],
          "name": "stdout"
        }
      ]
    },
    {
      "cell_type": "markdown",
      "metadata": {
        "id": "8sNDnxE2-pwE"
      },
      "source": [
        "### Importing the libraries"
      ]
    },
    {
      "cell_type": "code",
      "metadata": {
        "id": "y2J50G0sLEPD"
      },
      "source": [
        "import numpy as np\n",
        "import pandas as pd\n",
        "import tensorflow as tf\n"
      ],
      "execution_count": 2,
      "outputs": []
    },
    {
      "cell_type": "code",
      "metadata": {
        "colab": {
          "base_uri": "https://localhost:8080/",
          "height": 35
        },
        "id": "YODwFZk6LasJ",
        "outputId": "a83c5965-72c9-4938-b2bf-90037f84a933"
      },
      "source": [
        "tf.__version__"
      ],
      "execution_count": 3,
      "outputs": [
        {
          "output_type": "execute_result",
          "data": {
            "application/vnd.google.colaboratory.intrinsic+json": {
              "type": "string"
            },
            "text/plain": [
              "'2.4.1'"
            ]
          },
          "metadata": {
            "tags": []
          },
          "execution_count": 3
        }
      ]
    },
    {
      "cell_type": "markdown",
      "metadata": {
        "id": "AG3FQEch-yuA"
      },
      "source": [
        "## Part 1 - Data Preprocessing"
      ]
    },
    {
      "cell_type": "code",
      "metadata": {
        "id": "ve5BeEkjM9_U"
      },
      "source": [
        "\n",
        "dataset = pd.read_excel(\"Folds5x2_pp.xlsx\")\n",
        "x = dataset.iloc[:,:-1].values\n",
        "y = dataset.iloc[:,-1].values"
      ],
      "execution_count": 4,
      "outputs": []
    },
    {
      "cell_type": "code",
      "metadata": {
        "colab": {
          "base_uri": "https://localhost:8080/"
        },
        "id": "DQ40gjp7Pk6k",
        "outputId": "d45e272a-0ffc-42c3-d459-fe04c61ca2ee"
      },
      "source": [
        "print(x)\n",
        "print(y)"
      ],
      "execution_count": 5,
      "outputs": [
        {
          "output_type": "stream",
          "text": [
            "[[  14.96   41.76 1024.07   73.17]\n",
            " [  25.18   62.96 1020.04   59.08]\n",
            " [   5.11   39.4  1012.16   92.14]\n",
            " ...\n",
            " [  31.32   74.33 1012.92   36.48]\n",
            " [  24.48   69.45 1013.86   62.39]\n",
            " [  21.6    62.52 1017.23   67.87]]\n",
            "[463.26 444.37 488.56 ... 429.57 435.74 453.28]\n"
          ],
          "name": "stdout"
        }
      ]
    },
    {
      "cell_type": "code",
      "metadata": {
        "id": "15N19PJnQVi8"
      },
      "source": [
        "from sklearn.model_selection import  train_test_split\n",
        "x_train,x_test,y_train,y_test= train_test_split(x,y,test_size=.2,random_state=0)"
      ],
      "execution_count": 6,
      "outputs": []
    },
    {
      "cell_type": "markdown",
      "metadata": {
        "id": "VC6omXel_Up0"
      },
      "source": [
        "### Splitting the dataset into the Training set and Test set"
      ]
    },
    {
      "cell_type": "code",
      "metadata": {
        "id": "7xEfIR1LL4Sc"
      },
      "source": [
        ""
      ],
      "execution_count": null,
      "outputs": []
    },
    {
      "cell_type": "markdown",
      "metadata": {
        "id": "_mSLlAT9_eyI"
      },
      "source": [
        "## Part 2 - Building the ANN"
      ]
    },
    {
      "cell_type": "markdown",
      "metadata": {
        "id": "CsBULd_f_wLY"
      },
      "source": [
        "### Initializing the ANN"
      ]
    },
    {
      "cell_type": "code",
      "metadata": {
        "id": "9FkUfzp0ST81"
      },
      "source": [
        "ann = tf.keras.models.Sequential()"
      ],
      "execution_count": 7,
      "outputs": []
    },
    {
      "cell_type": "markdown",
      "metadata": {
        "id": "iitAFJS_ABUn"
      },
      "source": [
        "### Adding the input layer and the first hidden layer"
      ]
    },
    {
      "cell_type": "code",
      "metadata": {
        "id": "Ize7s8YcTUxd"
      },
      "source": [
        "ann.add(tf.keras.layers.Dense(units=6,activation='relu'))"
      ],
      "execution_count": 8,
      "outputs": []
    },
    {
      "cell_type": "code",
      "metadata": {
        "id": "TfiZixnOUwiF"
      },
      "source": [
        "ann.add(tf.keras.layers.Dense(units=6,activation='relu'))"
      ],
      "execution_count": 9,
      "outputs": []
    },
    {
      "cell_type": "markdown",
      "metadata": {
        "id": "-lb4kK_wAKbs"
      },
      "source": [
        "### Adding the second hidden layer"
      ]
    },
    {
      "cell_type": "markdown",
      "metadata": {
        "id": "jwMOmKb3AdBY"
      },
      "source": [
        "### Adding the output layer"
      ]
    },
    {
      "cell_type": "code",
      "metadata": {
        "id": "t5dQZnUoVQrl"
      },
      "source": [
        "ann.add(tf.keras.layers.Dense(units=1))"
      ],
      "execution_count": 10,
      "outputs": []
    },
    {
      "cell_type": "markdown",
      "metadata": {
        "id": "fq7e4fF6A1yy"
      },
      "source": [
        "## Part 3 - Training the ANN"
      ]
    },
    {
      "cell_type": "markdown",
      "metadata": {
        "id": "qDeylAs2An25"
      },
      "source": [
        "### Compiling the ANN"
      ]
    },
    {
      "cell_type": "code",
      "metadata": {
        "id": "lroyOwzBYoTm"
      },
      "source": [
        "ann.compile(optimizer='adam',loss='mean_squared_error')"
      ],
      "execution_count": 11,
      "outputs": []
    },
    {
      "cell_type": "markdown",
      "metadata": {
        "id": "YjVuiybYOo7r"
      },
      "source": [
        "### Training the ANN model on the Training set"
      ]
    },
    {
      "cell_type": "code",
      "metadata": {
        "colab": {
          "base_uri": "https://localhost:8080/"
        },
        "id": "ET0UkLF_ZSQ2",
        "outputId": "ee80c7b7-4b87-43ca-8bcc-3f41138f39ce"
      },
      "source": [
        "ann.fit(x_train,y_train, batch_size=32,epochs=100)"
      ],
      "execution_count": 12,
      "outputs": [
        {
          "output_type": "stream",
          "text": [
            "Epoch 1/100\n",
            "240/240 [==============================] - 1s 1ms/step - loss: 86803.2530\n",
            "Epoch 2/100\n",
            "240/240 [==============================] - 0s 1ms/step - loss: 364.4449\n",
            "Epoch 3/100\n",
            "240/240 [==============================] - 0s 1ms/step - loss: 348.3566\n",
            "Epoch 4/100\n",
            "240/240 [==============================] - 0s 1ms/step - loss: 329.3282\n",
            "Epoch 5/100\n",
            "240/240 [==============================] - 0s 1ms/step - loss: 299.5209\n",
            "Epoch 6/100\n",
            "240/240 [==============================] - 0s 1ms/step - loss: 277.3061\n",
            "Epoch 7/100\n",
            "240/240 [==============================] - 0s 1ms/step - loss: 245.8358\n",
            "Epoch 8/100\n",
            "240/240 [==============================] - 0s 1ms/step - loss: 219.8019\n",
            "Epoch 9/100\n",
            "240/240 [==============================] - 0s 1ms/step - loss: 195.8185\n",
            "Epoch 10/100\n",
            "240/240 [==============================] - 0s 997us/step - loss: 169.1519\n",
            "Epoch 11/100\n",
            "240/240 [==============================] - 0s 1ms/step - loss: 147.7374\n",
            "Epoch 12/100\n",
            "240/240 [==============================] - 0s 1ms/step - loss: 128.4950\n",
            "Epoch 13/100\n",
            "240/240 [==============================] - 0s 1ms/step - loss: 110.5490\n",
            "Epoch 14/100\n",
            "240/240 [==============================] - 0s 1ms/step - loss: 93.7324\n",
            "Epoch 15/100\n",
            "240/240 [==============================] - 0s 1ms/step - loss: 84.2087\n",
            "Epoch 16/100\n",
            "240/240 [==============================] - 0s 1ms/step - loss: 73.6807\n",
            "Epoch 17/100\n",
            "240/240 [==============================] - 0s 1ms/step - loss: 63.9945\n",
            "Epoch 18/100\n",
            "240/240 [==============================] - 0s 990us/step - loss: 54.8954\n",
            "Epoch 19/100\n",
            "240/240 [==============================] - 0s 1ms/step - loss: 49.5369\n",
            "Epoch 20/100\n",
            "240/240 [==============================] - 0s 1ms/step - loss: 46.5046\n",
            "Epoch 21/100\n",
            "240/240 [==============================] - 0s 1ms/step - loss: 40.1810\n",
            "Epoch 22/100\n",
            "240/240 [==============================] - 0s 994us/step - loss: 37.3766\n",
            "Epoch 23/100\n",
            "240/240 [==============================] - 0s 1ms/step - loss: 35.1856\n",
            "Epoch 24/100\n",
            "240/240 [==============================] - 0s 1ms/step - loss: 32.8758\n",
            "Epoch 25/100\n",
            "240/240 [==============================] - 0s 1ms/step - loss: 30.4820\n",
            "Epoch 26/100\n",
            "240/240 [==============================] - 0s 1ms/step - loss: 30.6564\n",
            "Epoch 27/100\n",
            "240/240 [==============================] - 0s 1ms/step - loss: 30.4356\n",
            "Epoch 28/100\n",
            "240/240 [==============================] - 0s 1ms/step - loss: 28.7197\n",
            "Epoch 29/100\n",
            "240/240 [==============================] - 0s 996us/step - loss: 29.0965\n",
            "Epoch 30/100\n",
            "240/240 [==============================] - 0s 1ms/step - loss: 27.7751\n",
            "Epoch 31/100\n",
            "240/240 [==============================] - 0s 1ms/step - loss: 29.7628\n",
            "Epoch 32/100\n",
            "240/240 [==============================] - 0s 1ms/step - loss: 28.5846\n",
            "Epoch 33/100\n",
            "240/240 [==============================] - 0s 1ms/step - loss: 28.4363\n",
            "Epoch 34/100\n",
            "240/240 [==============================] - 0s 1ms/step - loss: 28.1936\n",
            "Epoch 35/100\n",
            "240/240 [==============================] - 0s 1ms/step - loss: 27.9124\n",
            "Epoch 36/100\n",
            "240/240 [==============================] - 0s 1ms/step - loss: 27.2230\n",
            "Epoch 37/100\n",
            "240/240 [==============================] - 0s 998us/step - loss: 27.2463\n",
            "Epoch 38/100\n",
            "240/240 [==============================] - 0s 1ms/step - loss: 27.1269\n",
            "Epoch 39/100\n",
            "240/240 [==============================] - 0s 1ms/step - loss: 26.3829\n",
            "Epoch 40/100\n",
            "240/240 [==============================] - 0s 1ms/step - loss: 27.5404\n",
            "Epoch 41/100\n",
            "240/240 [==============================] - 0s 1ms/step - loss: 28.9479\n",
            "Epoch 42/100\n",
            "240/240 [==============================] - 0s 1ms/step - loss: 26.4297\n",
            "Epoch 43/100\n",
            "240/240 [==============================] - 0s 1ms/step - loss: 27.4913\n",
            "Epoch 44/100\n",
            "240/240 [==============================] - 0s 1ms/step - loss: 28.4321\n",
            "Epoch 45/100\n",
            "240/240 [==============================] - 0s 1ms/step - loss: 26.9245\n",
            "Epoch 46/100\n",
            "240/240 [==============================] - 0s 1ms/step - loss: 28.2808\n",
            "Epoch 47/100\n",
            "240/240 [==============================] - 0s 1ms/step - loss: 27.6725\n",
            "Epoch 48/100\n",
            "240/240 [==============================] - 0s 1ms/step - loss: 27.1418\n",
            "Epoch 49/100\n",
            "240/240 [==============================] - 0s 1ms/step - loss: 26.7048\n",
            "Epoch 50/100\n",
            "240/240 [==============================] - 0s 1ms/step - loss: 26.8799\n",
            "Epoch 51/100\n",
            "240/240 [==============================] - 0s 1ms/step - loss: 25.9843\n",
            "Epoch 52/100\n",
            "240/240 [==============================] - 0s 1ms/step - loss: 27.6960\n",
            "Epoch 53/100\n",
            "240/240 [==============================] - 0s 1ms/step - loss: 28.1250\n",
            "Epoch 54/100\n",
            "240/240 [==============================] - 0s 1ms/step - loss: 26.3447\n",
            "Epoch 55/100\n",
            "240/240 [==============================] - 0s 1ms/step - loss: 28.1074\n",
            "Epoch 56/100\n",
            "240/240 [==============================] - 0s 1ms/step - loss: 26.9979\n",
            "Epoch 57/100\n",
            "240/240 [==============================] - 0s 1ms/step - loss: 26.5990\n",
            "Epoch 58/100\n",
            "240/240 [==============================] - 0s 1ms/step - loss: 26.8278\n",
            "Epoch 59/100\n",
            "240/240 [==============================] - 0s 1ms/step - loss: 27.7114\n",
            "Epoch 60/100\n",
            "240/240 [==============================] - 0s 1ms/step - loss: 27.3814\n",
            "Epoch 61/100\n",
            "240/240 [==============================] - 0s 1ms/step - loss: 27.1422\n",
            "Epoch 62/100\n",
            "240/240 [==============================] - 0s 1ms/step - loss: 28.3564\n",
            "Epoch 63/100\n",
            "240/240 [==============================] - 0s 1ms/step - loss: 29.8716\n",
            "Epoch 64/100\n",
            "240/240 [==============================] - 0s 1ms/step - loss: 27.1541\n",
            "Epoch 65/100\n",
            "240/240 [==============================] - 0s 1ms/step - loss: 27.3149\n",
            "Epoch 66/100\n",
            "240/240 [==============================] - 0s 1ms/step - loss: 28.2367\n",
            "Epoch 67/100\n",
            "240/240 [==============================] - 0s 1ms/step - loss: 26.1389\n",
            "Epoch 68/100\n",
            "240/240 [==============================] - 0s 1ms/step - loss: 26.5904\n",
            "Epoch 69/100\n",
            "240/240 [==============================] - 0s 1ms/step - loss: 27.8218\n",
            "Epoch 70/100\n",
            "240/240 [==============================] - 0s 1ms/step - loss: 27.1711\n",
            "Epoch 71/100\n",
            "240/240 [==============================] - 0s 1ms/step - loss: 27.3259\n",
            "Epoch 72/100\n",
            "240/240 [==============================] - 0s 1ms/step - loss: 27.9107\n",
            "Epoch 73/100\n",
            "240/240 [==============================] - 0s 1ms/step - loss: 26.4563\n",
            "Epoch 74/100\n",
            "240/240 [==============================] - 0s 1ms/step - loss: 27.7269\n",
            "Epoch 75/100\n",
            "240/240 [==============================] - 0s 1ms/step - loss: 28.2046\n",
            "Epoch 76/100\n",
            "240/240 [==============================] - 0s 1ms/step - loss: 26.7648\n",
            "Epoch 77/100\n",
            "240/240 [==============================] - 0s 1ms/step - loss: 26.2784\n",
            "Epoch 78/100\n",
            "240/240 [==============================] - 0s 1ms/step - loss: 27.7409\n",
            "Epoch 79/100\n",
            "240/240 [==============================] - 0s 995us/step - loss: 27.8502\n",
            "Epoch 80/100\n",
            "240/240 [==============================] - 0s 1ms/step - loss: 27.2977\n",
            "Epoch 81/100\n",
            "240/240 [==============================] - 0s 1ms/step - loss: 26.7305\n",
            "Epoch 82/100\n",
            "240/240 [==============================] - 0s 1ms/step - loss: 28.5419\n",
            "Epoch 83/100\n",
            "240/240 [==============================] - 0s 1ms/step - loss: 26.9054\n",
            "Epoch 84/100\n",
            "240/240 [==============================] - 0s 1ms/step - loss: 27.8557\n",
            "Epoch 85/100\n",
            "240/240 [==============================] - 0s 1ms/step - loss: 26.8648\n",
            "Epoch 86/100\n",
            "240/240 [==============================] - 0s 1ms/step - loss: 26.5046\n",
            "Epoch 87/100\n",
            "240/240 [==============================] - 0s 1ms/step - loss: 27.1931\n",
            "Epoch 88/100\n",
            "240/240 [==============================] - 0s 1ms/step - loss: 27.4517\n",
            "Epoch 89/100\n",
            "240/240 [==============================] - 0s 1ms/step - loss: 26.2580\n",
            "Epoch 90/100\n",
            "240/240 [==============================] - 0s 1ms/step - loss: 27.2369\n",
            "Epoch 91/100\n",
            "240/240 [==============================] - 0s 1ms/step - loss: 26.6187\n",
            "Epoch 92/100\n",
            "240/240 [==============================] - 0s 1ms/step - loss: 28.8096\n",
            "Epoch 93/100\n",
            "240/240 [==============================] - 0s 1ms/step - loss: 28.5264\n",
            "Epoch 94/100\n",
            "240/240 [==============================] - 0s 1ms/step - loss: 26.9396\n",
            "Epoch 95/100\n",
            "240/240 [==============================] - 0s 1ms/step - loss: 26.8405\n",
            "Epoch 96/100\n",
            "240/240 [==============================] - 0s 1ms/step - loss: 30.1112\n",
            "Epoch 97/100\n",
            "240/240 [==============================] - 0s 1ms/step - loss: 27.3561\n",
            "Epoch 98/100\n",
            "240/240 [==============================] - 0s 1ms/step - loss: 28.3602\n",
            "Epoch 99/100\n",
            "240/240 [==============================] - 0s 1ms/step - loss: 26.8999\n",
            "Epoch 100/100\n",
            "240/240 [==============================] - 0s 1ms/step - loss: 26.0453\n"
          ],
          "name": "stdout"
        },
        {
          "output_type": "execute_result",
          "data": {
            "text/plain": [
              "<tensorflow.python.keras.callbacks.History at 0x7fbcab0f2c50>"
            ]
          },
          "metadata": {
            "tags": []
          },
          "execution_count": 12
        }
      ]
    },
    {
      "cell_type": "markdown",
      "metadata": {
        "id": "0H0zKKNEBLD5"
      },
      "source": [
        "### Predicting the results of the Test set"
      ]
    },
    {
      "cell_type": "code",
      "metadata": {
        "colab": {
          "base_uri": "https://localhost:8080/"
        },
        "id": "KjW3_hBJb8Wm",
        "outputId": "3aa37a11-a373-4741-e93f-4fd565fbce7c"
      },
      "source": [
        "y_pred=ann.predict(x_test)\n",
        "np.set_printoptions(precision=2)\n",
        "print(np.concatenate((y_pred.reshape(len(y_pred),1),y_test.reshape(len(y_test),1)),axis=1))"
      ],
      "execution_count": 13,
      "outputs": [
        {
          "output_type": "stream",
          "text": [
            "[[432.48 431.23]\n",
            " [463.45 460.01]\n",
            " [466.94 461.14]\n",
            " ...\n",
            " [474.16 473.26]\n",
            " [440.97 438.  ]\n",
            " [460.15 463.28]]\n"
          ],
          "name": "stdout"
        }
      ]
    },
    {
      "cell_type": "code",
      "metadata": {
        "id": "zGVhkUjYSya7"
      },
      "source": [
        ""
      ],
      "execution_count": null,
      "outputs": []
    }
  ]
}