{
  "nbformat": 4,
  "nbformat_minor": 0,
  "metadata": {
    "colab": {
      "name": "Artificial Neural Network",
      "provenance": [],
      "collapsed_sections": [],
      "include_colab_link": true
    },
    "kernelspec": {
      "name": "python3",
      "display_name": "Python 3"
    }
  },
  "cells": [
    {
      "cell_type": "markdown",
      "metadata": {
        "id": "view-in-github",
        "colab_type": "text"
      },
      "source": [
        "<a href=\"https://colab.research.google.com/github/nitkum41/Machine-Learning/blob/main/Artificial_Neural_Network.ipynb\" target=\"_parent\"><img src=\"https://colab.research.google.com/assets/colab-badge.svg\" alt=\"Open In Colab\"/></a>"
      ]
    },
    {
      "cell_type": "markdown",
      "metadata": {
        "id": "3cbb7fRy-eyr"
      },
      "source": [
        "# Artificial Neural Network"
      ]
    },
    {
      "cell_type": "code",
      "metadata": {
        "colab": {
          "base_uri": "https://localhost:8080/"
        },
        "id": "6HSm0CUWR1GG",
        "outputId": "0fb31d02-26bb-4ab7-f0d3-4f57938922a9"
      },
      "source": [
        "from google.colab import drive\n",
        "drive.mount('/content/drive')"
      ],
      "execution_count": 1,
      "outputs": [
        {
          "output_type": "stream",
          "text": [
            "Mounted at /content/drive\n"
          ],
          "name": "stdout"
        }
      ]
    },
    {
      "cell_type": "markdown",
      "metadata": {
        "id": "8sNDnxE2-pwE"
      },
      "source": [
        "### Importing the libraries"
      ]
    },
    {
      "cell_type": "code",
      "metadata": {
        "id": "y2J50G0sLEPD"
      },
      "source": [
        "import numpy as np\n",
        "import pandas as pd\n",
        "import tensorflow as tf\n"
      ],
      "execution_count": null,
      "outputs": []
    },
    {
      "cell_type": "code",
      "metadata": {
        "colab": {
          "base_uri": "https://localhost:8080/",
          "height": 35
        },
        "id": "YODwFZk6LasJ",
        "outputId": "a2bf1b99-9104-497e-8287-ee4e38c9af53"
      },
      "source": [
        "tf.__version__"
      ],
      "execution_count": null,
      "outputs": [
        {
          "output_type": "execute_result",
          "data": {
            "application/vnd.google.colaboratory.intrinsic+json": {
              "type": "string"
            },
            "text/plain": [
              "'2.4.1'"
            ]
          },
          "metadata": {
            "tags": []
          },
          "execution_count": 19
        }
      ]
    },
    {
      "cell_type": "markdown",
      "metadata": {
        "id": "AG3FQEch-yuA"
      },
      "source": [
        "## Part 1 - Data Preprocessing"
      ]
    },
    {
      "cell_type": "code",
      "metadata": {
        "id": "ve5BeEkjM9_U"
      },
      "source": [
        "\n",
        "dataset = pd.read_excel(\"Folds5x2_pp.xlsx\")\n",
        "x = dataset.iloc[:,:-1].values\n",
        "y = dataset.iloc[:,-1].values"
      ],
      "execution_count": null,
      "outputs": []
    },
    {
      "cell_type": "code",
      "metadata": {
        "colab": {
          "base_uri": "https://localhost:8080/"
        },
        "id": "DQ40gjp7Pk6k",
        "outputId": "2a3128e7-984a-4673-b97f-a941067e81fd"
      },
      "source": [
        "print(x)\n",
        "print(y)"
      ],
      "execution_count": null,
      "outputs": [
        {
          "output_type": "stream",
          "text": [
            "[[  14.96   41.76 1024.07   73.17]\n",
            " [  25.18   62.96 1020.04   59.08]\n",
            " [   5.11   39.4  1012.16   92.14]\n",
            " ...\n",
            " [  31.32   74.33 1012.92   36.48]\n",
            " [  24.48   69.45 1013.86   62.39]\n",
            " [  21.6    62.52 1017.23   67.87]]\n",
            "[463.26 444.37 488.56 ... 429.57 435.74 453.28]\n"
          ],
          "name": "stdout"
        }
      ]
    },
    {
      "cell_type": "code",
      "metadata": {
        "id": "15N19PJnQVi8"
      },
      "source": [
        "from sklearn.model_selection import  train_test_split\n",
        "x_train,x_test,y_train,y_test= train_test_split(x,y,test_size=.2,random_state=0)"
      ],
      "execution_count": null,
      "outputs": []
    },
    {
      "cell_type": "markdown",
      "metadata": {
        "id": "VC6omXel_Up0"
      },
      "source": [
        "### Splitting the dataset into the Training set and Test set"
      ]
    },
    {
      "cell_type": "code",
      "metadata": {
        "id": "7xEfIR1LL4Sc"
      },
      "source": [
        ""
      ],
      "execution_count": null,
      "outputs": []
    },
    {
      "cell_type": "markdown",
      "metadata": {
        "id": "_mSLlAT9_eyI"
      },
      "source": [
        "## Part 2 - Building the ANN"
      ]
    },
    {
      "cell_type": "markdown",
      "metadata": {
        "id": "CsBULd_f_wLY"
      },
      "source": [
        "### Initializing the ANN"
      ]
    },
    {
      "cell_type": "code",
      "metadata": {
        "id": "9FkUfzp0ST81"
      },
      "source": [
        "ann = tf.keras.models.Sequential()"
      ],
      "execution_count": null,
      "outputs": []
    },
    {
      "cell_type": "markdown",
      "metadata": {
        "id": "iitAFJS_ABUn"
      },
      "source": [
        "### Adding the input layer and the first hidden layer"
      ]
    },
    {
      "cell_type": "code",
      "metadata": {
        "id": "Ize7s8YcTUxd"
      },
      "source": [
        "ann.add(tf.keras.layers.Dense(units=6,activation='relu'))"
      ],
      "execution_count": null,
      "outputs": []
    },
    {
      "cell_type": "code",
      "metadata": {
        "id": "TfiZixnOUwiF"
      },
      "source": [
        "ann.add(tf.keras.layers.Dense(units=6,activation='relu'))"
      ],
      "execution_count": null,
      "outputs": []
    },
    {
      "cell_type": "markdown",
      "metadata": {
        "id": "-lb4kK_wAKbs"
      },
      "source": [
        "### Adding the second hidden layer"
      ]
    },
    {
      "cell_type": "markdown",
      "metadata": {
        "id": "jwMOmKb3AdBY"
      },
      "source": [
        "### Adding the output layer"
      ]
    },
    {
      "cell_type": "code",
      "metadata": {
        "id": "t5dQZnUoVQrl"
      },
      "source": [
        "ann.add(tf.keras.layers.Dense(units=1))"
      ],
      "execution_count": null,
      "outputs": []
    },
    {
      "cell_type": "markdown",
      "metadata": {
        "id": "fq7e4fF6A1yy"
      },
      "source": [
        "## Part 3 - Training the ANN"
      ]
    },
    {
      "cell_type": "markdown",
      "metadata": {
        "id": "qDeylAs2An25"
      },
      "source": [
        "### Compiling the ANN"
      ]
    },
    {
      "cell_type": "code",
      "metadata": {
        "id": "lroyOwzBYoTm"
      },
      "source": [
        "ann.compile(optimizer='adam',loss='mean_squared_error')"
      ],
      "execution_count": null,
      "outputs": []
    },
    {
      "cell_type": "markdown",
      "metadata": {
        "id": "YjVuiybYOo7r"
      },
      "source": [
        "### Training the ANN model on the Training set"
      ]
    },
    {
      "cell_type": "code",
      "metadata": {
        "colab": {
          "base_uri": "https://localhost:8080/"
        },
        "id": "ET0UkLF_ZSQ2",
        "outputId": "16d4fdf7-bce3-40aa-c674-648759782dd0"
      },
      "source": [
        "ann.fit(x_train,y_train, batch_size=32,epochs=100)"
      ],
      "execution_count": null,
      "outputs": [
        {
          "output_type": "stream",
          "text": [
            "Epoch 1/100\n",
            "240/240 [==============================] - 1s 1ms/step - loss: 210353.7293\n",
            "Epoch 2/100\n",
            "240/240 [==============================] - 0s 949us/step - loss: 403.8841\n",
            "Epoch 3/100\n",
            "240/240 [==============================] - 0s 982us/step - loss: 393.9481\n",
            "Epoch 4/100\n",
            "240/240 [==============================] - 0s 971us/step - loss: 391.2801\n",
            "Epoch 5/100\n",
            "240/240 [==============================] - 0s 1ms/step - loss: 370.2912\n",
            "Epoch 6/100\n",
            "240/240 [==============================] - 0s 989us/step - loss: 345.4431\n",
            "Epoch 7/100\n",
            "240/240 [==============================] - 0s 944us/step - loss: 333.0864\n",
            "Epoch 8/100\n",
            "240/240 [==============================] - 0s 974us/step - loss: 309.7264\n",
            "Epoch 9/100\n",
            "240/240 [==============================] - 0s 1ms/step - loss: 290.3933\n",
            "Epoch 10/100\n",
            "240/240 [==============================] - 0s 1ms/step - loss: 264.9611\n",
            "Epoch 11/100\n",
            "240/240 [==============================] - 0s 990us/step - loss: 237.3849\n",
            "Epoch 12/100\n",
            "240/240 [==============================] - 0s 1ms/step - loss: 217.3939\n",
            "Epoch 13/100\n",
            "240/240 [==============================] - 0s 1ms/step - loss: 194.0439\n",
            "Epoch 14/100\n",
            "240/240 [==============================] - 0s 994us/step - loss: 168.9076\n",
            "Epoch 15/100\n",
            "240/240 [==============================] - 0s 1ms/step - loss: 150.4790\n",
            "Epoch 16/100\n",
            "240/240 [==============================] - 0s 1ms/step - loss: 127.1695\n",
            "Epoch 17/100\n",
            "240/240 [==============================] - 0s 1ms/step - loss: 113.6920\n",
            "Epoch 18/100\n",
            "240/240 [==============================] - 0s 1ms/step - loss: 98.5186\n",
            "Epoch 19/100\n",
            "240/240 [==============================] - 0s 970us/step - loss: 82.1427\n",
            "Epoch 20/100\n",
            "240/240 [==============================] - 0s 1ms/step - loss: 70.5163\n",
            "Epoch 21/100\n",
            "240/240 [==============================] - 0s 998us/step - loss: 60.3204\n",
            "Epoch 22/100\n",
            "240/240 [==============================] - 0s 1ms/step - loss: 55.1148\n",
            "Epoch 23/100\n",
            "240/240 [==============================] - 0s 1ms/step - loss: 49.0643\n",
            "Epoch 24/100\n",
            "240/240 [==============================] - 0s 990us/step - loss: 44.7532\n",
            "Epoch 25/100\n",
            "240/240 [==============================] - 0s 1ms/step - loss: 40.8285\n",
            "Epoch 26/100\n",
            "240/240 [==============================] - 0s 1ms/step - loss: 38.1103\n",
            "Epoch 27/100\n",
            "240/240 [==============================] - 0s 1ms/step - loss: 37.5040\n",
            "Epoch 28/100\n",
            "240/240 [==============================] - 0s 988us/step - loss: 34.1144\n",
            "Epoch 29/100\n",
            "240/240 [==============================] - 0s 1ms/step - loss: 35.2194\n",
            "Epoch 30/100\n",
            "240/240 [==============================] - 0s 1ms/step - loss: 32.5405\n",
            "Epoch 31/100\n",
            "240/240 [==============================] - 0s 984us/step - loss: 31.6143\n",
            "Epoch 32/100\n",
            "240/240 [==============================] - 0s 998us/step - loss: 33.5026\n",
            "Epoch 33/100\n",
            "240/240 [==============================] - 0s 1ms/step - loss: 30.6387\n",
            "Epoch 34/100\n",
            "240/240 [==============================] - 0s 1ms/step - loss: 29.4803\n",
            "Epoch 35/100\n",
            "240/240 [==============================] - 0s 1ms/step - loss: 29.8464\n",
            "Epoch 36/100\n",
            "240/240 [==============================] - 0s 984us/step - loss: 28.2295\n",
            "Epoch 37/100\n",
            "240/240 [==============================] - 0s 1ms/step - loss: 29.8805\n",
            "Epoch 38/100\n",
            "240/240 [==============================] - 0s 1ms/step - loss: 28.4876\n",
            "Epoch 39/100\n",
            "240/240 [==============================] - 0s 1ms/step - loss: 28.2208\n",
            "Epoch 40/100\n",
            "240/240 [==============================] - 0s 1ms/step - loss: 30.3150\n",
            "Epoch 41/100\n",
            "240/240 [==============================] - 0s 995us/step - loss: 29.5870\n",
            "Epoch 42/100\n",
            "240/240 [==============================] - 0s 1ms/step - loss: 27.4378\n",
            "Epoch 43/100\n",
            "240/240 [==============================] - 0s 984us/step - loss: 30.5022\n",
            "Epoch 44/100\n",
            "240/240 [==============================] - 0s 1ms/step - loss: 28.2878\n",
            "Epoch 45/100\n",
            "240/240 [==============================] - 0s 1ms/step - loss: 27.0550\n",
            "Epoch 46/100\n",
            "240/240 [==============================] - 0s 1ms/step - loss: 28.7659\n",
            "Epoch 47/100\n",
            "240/240 [==============================] - 0s 1ms/step - loss: 28.7126\n",
            "Epoch 48/100\n",
            "240/240 [==============================] - 0s 1ms/step - loss: 28.9273\n",
            "Epoch 49/100\n",
            "240/240 [==============================] - 0s 987us/step - loss: 27.7451\n",
            "Epoch 50/100\n",
            "240/240 [==============================] - 0s 1ms/step - loss: 28.3960\n",
            "Epoch 51/100\n",
            "240/240 [==============================] - 0s 998us/step - loss: 27.4193\n",
            "Epoch 52/100\n",
            "240/240 [==============================] - 0s 978us/step - loss: 27.4605\n",
            "Epoch 53/100\n",
            "240/240 [==============================] - 0s 996us/step - loss: 27.3663\n",
            "Epoch 54/100\n",
            "240/240 [==============================] - 0s 1ms/step - loss: 26.1697\n",
            "Epoch 55/100\n",
            "240/240 [==============================] - 0s 1ms/step - loss: 27.1744\n",
            "Epoch 56/100\n",
            "240/240 [==============================] - 0s 1ms/step - loss: 27.2233\n",
            "Epoch 57/100\n",
            "240/240 [==============================] - 0s 1ms/step - loss: 31.3436\n",
            "Epoch 58/100\n",
            "240/240 [==============================] - 0s 1ms/step - loss: 27.1169\n",
            "Epoch 59/100\n",
            "240/240 [==============================] - 0s 1ms/step - loss: 28.4716\n",
            "Epoch 60/100\n",
            "240/240 [==============================] - 0s 982us/step - loss: 28.4850\n",
            "Epoch 61/100\n",
            "240/240 [==============================] - 0s 1ms/step - loss: 28.2745\n",
            "Epoch 62/100\n",
            "240/240 [==============================] - 0s 1ms/step - loss: 25.9845\n",
            "Epoch 63/100\n",
            "240/240 [==============================] - 0s 1ms/step - loss: 28.8026\n",
            "Epoch 64/100\n",
            "240/240 [==============================] - 0s 988us/step - loss: 26.4377\n",
            "Epoch 65/100\n",
            "240/240 [==============================] - 0s 1ms/step - loss: 26.5890\n",
            "Epoch 66/100\n",
            "240/240 [==============================] - 0s 1ms/step - loss: 29.9681\n",
            "Epoch 67/100\n",
            "240/240 [==============================] - 0s 1ms/step - loss: 28.6675\n",
            "Epoch 68/100\n",
            "240/240 [==============================] - 0s 1ms/step - loss: 28.1727\n",
            "Epoch 69/100\n",
            "240/240 [==============================] - 0s 1ms/step - loss: 28.6474\n",
            "Epoch 70/100\n",
            "240/240 [==============================] - 0s 1ms/step - loss: 26.9105\n",
            "Epoch 71/100\n",
            "240/240 [==============================] - 0s 1ms/step - loss: 26.8639\n",
            "Epoch 72/100\n",
            "240/240 [==============================] - 0s 964us/step - loss: 27.5415\n",
            "Epoch 73/100\n",
            "240/240 [==============================] - 0s 1ms/step - loss: 28.4275\n",
            "Epoch 74/100\n",
            "240/240 [==============================] - 0s 1ms/step - loss: 27.3368\n",
            "Epoch 75/100\n",
            "240/240 [==============================] - 0s 1ms/step - loss: 26.6799\n",
            "Epoch 76/100\n",
            "240/240 [==============================] - 0s 1ms/step - loss: 26.5318\n",
            "Epoch 77/100\n",
            "240/240 [==============================] - 0s 1ms/step - loss: 26.6076\n",
            "Epoch 78/100\n",
            "240/240 [==============================] - 0s 1ms/step - loss: 26.2112\n",
            "Epoch 79/100\n",
            "240/240 [==============================] - 0s 1ms/step - loss: 28.5052\n",
            "Epoch 80/100\n",
            "240/240 [==============================] - 0s 1ms/step - loss: 26.6653\n",
            "Epoch 81/100\n",
            "240/240 [==============================] - 0s 1ms/step - loss: 27.0253\n",
            "Epoch 82/100\n",
            "240/240 [==============================] - 0s 1ms/step - loss: 27.6234\n",
            "Epoch 83/100\n",
            "240/240 [==============================] - 0s 1ms/step - loss: 26.6074\n",
            "Epoch 84/100\n",
            "240/240 [==============================] - 0s 1ms/step - loss: 26.6477\n",
            "Epoch 85/100\n",
            "240/240 [==============================] - 0s 1ms/step - loss: 26.3268\n",
            "Epoch 86/100\n",
            "240/240 [==============================] - 0s 1ms/step - loss: 27.3974\n",
            "Epoch 87/100\n",
            "240/240 [==============================] - 0s 1ms/step - loss: 27.9175\n",
            "Epoch 88/100\n",
            "240/240 [==============================] - 0s 1ms/step - loss: 28.2184\n",
            "Epoch 89/100\n",
            "240/240 [==============================] - 0s 1ms/step - loss: 27.0033\n",
            "Epoch 90/100\n",
            "240/240 [==============================] - 0s 1ms/step - loss: 27.3850\n",
            "Epoch 91/100\n",
            "240/240 [==============================] - 0s 981us/step - loss: 28.3108\n",
            "Epoch 92/100\n",
            "240/240 [==============================] - 0s 1ms/step - loss: 26.4390\n",
            "Epoch 93/100\n",
            "240/240 [==============================] - 0s 1ms/step - loss: 27.9574\n",
            "Epoch 94/100\n",
            "240/240 [==============================] - 0s 1ms/step - loss: 26.3666\n",
            "Epoch 95/100\n",
            "240/240 [==============================] - 0s 1ms/step - loss: 27.1540\n",
            "Epoch 96/100\n",
            "240/240 [==============================] - 0s 1ms/step - loss: 27.9210\n",
            "Epoch 97/100\n",
            "240/240 [==============================] - 0s 1ms/step - loss: 29.2219\n",
            "Epoch 98/100\n",
            "240/240 [==============================] - 0s 989us/step - loss: 27.0090\n",
            "Epoch 99/100\n",
            "240/240 [==============================] - 0s 973us/step - loss: 28.0329\n",
            "Epoch 100/100\n",
            "240/240 [==============================] - 0s 1ms/step - loss: 28.2313\n"
          ],
          "name": "stdout"
        },
        {
          "output_type": "execute_result",
          "data": {
            "text/plain": [
              "<tensorflow.python.keras.callbacks.History at 0x7fdc1246cd10>"
            ]
          },
          "metadata": {
            "tags": []
          },
          "execution_count": 28
        }
      ]
    },
    {
      "cell_type": "markdown",
      "metadata": {
        "id": "0H0zKKNEBLD5"
      },
      "source": [
        "### Predicting the results of the Test set"
      ]
    },
    {
      "cell_type": "code",
      "metadata": {
        "colab": {
          "base_uri": "https://localhost:8080/"
        },
        "id": "KjW3_hBJb8Wm",
        "outputId": "ecceb8e0-eb93-4834-da39-06aac7d58765"
      },
      "source": [
        "y_pred=ann.predict(x_test)\n",
        "np.set_printoptions(precision=2)\n",
        "print(np.concatenate((y_pred.reshape(len(y_pred),1),y_test.reshape(len(y_test),1)),axis=1))"
      ],
      "execution_count": null,
      "outputs": [
        {
          "output_type": "stream",
          "text": [
            "[[429.24 431.23]\n",
            " [460.29 460.01]\n",
            " [463.8  461.14]\n",
            " ...\n",
            " [471.03 473.26]\n",
            " [437.83 438.  ]\n",
            " [457.05 463.28]]\n"
          ],
          "name": "stdout"
        }
      ]
    }
  ]
}