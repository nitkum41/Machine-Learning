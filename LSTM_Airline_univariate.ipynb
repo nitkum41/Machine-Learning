{
  "nbformat": 4,
  "nbformat_minor": 0,
  "metadata": {
    "colab": {
      "name": "LSTM_Airline_univariate.ipynb",
      "provenance": [],
      "mount_file_id": "1X8FBUs12PbTHzPppwrBrUBzeGBYgcBG-",
      "authorship_tag": "ABX9TyNPHqbfHbtElWNJgBGVKUTz",
      "include_colab_link": true
    },
    "kernelspec": {
      "name": "python3",
      "display_name": "Python 3"
    },
    "language_info": {
      "name": "python"
    }
  },
  "cells": [
    {
      "cell_type": "markdown",
      "metadata": {
        "id": "view-in-github",
        "colab_type": "text"
      },
      "source": [
        "<a href=\"https://colab.research.google.com/github/nitkum41/Machine-Learning/blob/main/LSTM_Airline_univariate.ipynb\" target=\"_parent\"><img src=\"https://colab.research.google.com/assets/colab-badge.svg\" alt=\"Open In Colab\"/></a>"
      ]
    },
    {
      "cell_type": "code",
      "metadata": {
        "id": "7toPAJhMg06Q"
      },
      "source": [
        "import numpy as np\n",
        "import matplotlib.pyplot as plt\n",
        "from pandas import read_csv\n",
        "import math\n",
        "\n",
        "from keras.models import Sequential\n",
        "from keras.layers import Dense, SimpleRNN, LSTM\n",
        "from sklearn.preprocessing import MinMaxScaler\n",
        "from sklearn.metrics import mean_squared_error"
      ],
      "execution_count": 1,
      "outputs": []
    },
    {
      "cell_type": "code",
      "metadata": {
        "colab": {
          "base_uri": "https://localhost:8080/",
          "height": 282
        },
        "id": "utjVAEa7jKay",
        "outputId": "e8125c84-875e-4ed9-f9da-58e106f017de"
      },
      "source": [
        "dataframe = read_csv('/content/AirPassengers.csv', usecols=[1])\n",
        "plt.plot(dataframe)"
      ],
      "execution_count": 3,
      "outputs": [
        {
          "output_type": "execute_result",
          "data": {
            "text/plain": [
              "[<matplotlib.lines.Line2D at 0x7f1722eae490>]"
            ]
          },
          "metadata": {
            "tags": []
          },
          "execution_count": 3
        },
        {
          "output_type": "display_data",
          "data": {
            "image/png": "[encoded data removed]",
            "text/plain": [
              "<Figure size 432x288 with 1 Axes>"
            ]
          },
          "metadata": {
            "tags": [],
            "needs_background": "light"
          }
        }
      ]
    },
    {
      "cell_type": "code",
      "metadata": {
        "colab": {
          "base_uri": "https://localhost:8080/"
        },
        "id": "X-XINC9Xjv2C",
        "outputId": "2a6ea3f6-5c9f-4053-ad73-34dbe849fda9"
      },
      "source": [
        "#Convert pandas dataframe to numpy array\n",
        "dataset = dataframe.values\n",
        "dataset = dataset.astype('float32') #COnvert values to float\n",
        "dataset"
      ],
      "execution_count": 5,
      "outputs": [
        {
          "output_type": "execute_result",
          "data": {
            "text/plain": [
              "array([[112.],\n",
              "       [118.],\n",
              "       [132.],\n",
              "       [129.],\n",
              "       [121.],\n",
              "       [135.],\n",
              "       [148.],\n",
              "       [148.],\n",
              "       [136.],\n",
              "       [119.],\n",
              "       [104.],\n",
              "       [118.],\n",
              "       [115.],\n",
              "       [126.],\n",
              "       [141.],\n",
              "       [135.],\n",
              "       [125.],\n",
              "       [149.],\n",
              "       [170.],\n",
              "       [170.],\n",
              "       [158.],\n",
              "       [133.],\n",
              "       [114.],\n",
              "       [140.],\n",
              "       [145.],\n",
              "       [150.],\n",
              "       [178.],\n",
              "       [163.],\n",
              "       [172.],\n",
              "       [178.],\n",
              "       [199.],\n",
              "       [199.],\n",
              "       [184.],\n",
              "       [162.],\n",
              "       [146.],\n",
              "       [166.],\n",
              "       [171.],\n",
              "       [180.],\n",
              "       [193.],\n",
              "       [181.],\n",
              "       [183.],\n",
              "       [218.],\n",
              "       [230.],\n",
              "       [242.],\n",
              "       [209.],\n",
              "       [191.],\n",
              "       [172.],\n",
              "       [194.],\n",
              "       [196.],\n",
              "       [196.],\n",
              "       [236.],\n",
              "       [235.],\n",
              "       [229.],\n",
              "       [243.],\n",
              "       [264.],\n",
              "       [272.],\n",
              "       [237.],\n",
              "       [211.],\n",
              "       [180.],\n",
              "       [201.],\n",
              "       [204.],\n",
              "       [188.],\n",
              "       [235.],\n",
              "       [227.],\n",
              "       [234.],\n",
              "       [264.],\n",
              "       [302.],\n",
              "       [293.],\n",
              "       [259.],\n",
              "       [229.],\n",
              "       [203.],\n",
              "       [229.],\n",
              "       [242.],\n",
              "       [233.],\n",
              "       [267.],\n",
              "       [269.],\n",
              "       [270.],\n",
              "       [315.],\n",
              "       [364.],\n",
              "       [347.],\n",
              "       [312.],\n",
              "       [274.],\n",
              "       [237.],\n",
              "       [278.],\n",
              "       [284.],\n",
              "       [277.],\n",
              "       [317.],\n",
              "       [313.],\n",
              "       [318.],\n",
              "       [374.],\n",
              "       [413.],\n",
              "       [405.],\n",
              "       [355.],\n",
              "       [306.],\n",
              "       [271.],\n",
              "       [306.],\n",
              "       [315.],\n",
              "       [301.],\n",
              "       [356.],\n",
              "       [348.],\n",
              "       [355.],\n",
              "       [422.],\n",
              "       [465.],\n",
              "       [467.],\n",
              "       [404.],\n",
              "       [347.],\n",
              "       [305.],\n",
              "       [336.],\n",
              "       [340.],\n",
              "       [318.],\n",
              "       [362.],\n",
              "       [348.],\n",
              "       [363.],\n",
              "       [435.],\n",
              "       [491.],\n",
              "       [505.],\n",
              "       [404.],\n",
              "       [359.],\n",
              "       [310.],\n",
              "       [337.],\n",
              "       [360.],\n",
              "       [342.],\n",
              "       [406.],\n",
              "       [396.],\n",
              "       [420.],\n",
              "       [472.],\n",
              "       [548.],\n",
              "       [559.],\n",
              "       [463.],\n",
              "       [407.],\n",
              "       [362.],\n",
              "       [405.],\n",
              "       [417.],\n",
              "       [391.],\n",
              "       [419.],\n",
              "       [461.],\n",
              "       [472.],\n",
              "       [535.],\n",
              "       [622.],\n",
              "       [606.],\n",
              "       [508.],\n",
              "       [461.],\n",
              "       [390.],\n",
              "       [432.]], dtype=float32)"
            ]
          },
          "metadata": {
            "tags": []
          },
          "execution_count": 5
        }
      ]
    },
    {
      "cell_type": "code",
      "metadata": {
        "id": "KuVRUJDEj3WC"
      },
      "source": [
        "# Normalization is optional but recommended for neural network as certain \n",
        "# activation functions are sensitive to magnitude of numbers. \n",
        "# normalize the dataset\n",
        "scaler = MinMaxScaler(feature_range=(0, 1)) #Also try QuantileTransformer\n",
        "dataset = scaler.fit_transform(dataset)"
      ],
      "execution_count": 7,
      "outputs": []
    },
    {
      "cell_type": "code",
      "metadata": {
        "id": "jbJKnxcClFnq"
      },
      "source": [
        "#We cannot use random way of splitting dataset into train and test as\n",
        "#the sequence of events is important for time series.\n",
        "#So let us take first 60% values for train and the remaining 1/3 for testing\n",
        "# split into train and test sets\n",
        "train_size = int(len(dataset) * 0.66)\n",
        "test_size = len(dataset) - train_size\n",
        "train, test = dataset[0:train_size,:], dataset[train_size:len(dataset),:]\n"
      ],
      "execution_count": 9,
      "outputs": []
    },
    {
      "cell_type": "code",
      "metadata": {
        "colab": {
          "base_uri": "https://localhost:8080/"
        },
        "id": "aCgEP1RemmMD",
        "outputId": "3415ca52-73cb-481e-a7b2-403ebe4e4113"
      },
      "source": [
        "print(len(train))\n",
        "print(len(test))"
      ],
      "execution_count": 12,
      "outputs": [
        {
          "output_type": "stream",
          "text": [
            "95\n",
            "49\n"
          ],
          "name": "stdout"
        }
      ]
    },
    {
      "cell_type": "code",
      "metadata": {
        "colab": {
          "base_uri": "https://localhost:8080/"
        },
        "id": "EatWPOiBmC0K",
        "outputId": "2b6382d1-bd76-462a-b1fc-c404d8eea4f5"
      },
      "source": [
        "#Use TimeseriesGenerator to organize training data into the right format\n",
        "#We can use a generator instead......\n",
        "from keras.preprocessing.sequence import TimeseriesGenerator # Generates batches for sequence data\n",
        "seq_size = length =  10 \n",
        "batch_size = 1\n",
        "train_generator = TimeseriesGenerator(train,train,length=length,batch_size=batch_size)\n",
        "print(\"Total number of samples in the original training data = \", len(train)) # 95\n",
        "print(\"Total number of samples in the generated data = \", len(train_generator)) # 55\n",
        "#With length 40 it generated 55 samples, each of length 40 (by using data of length 95)"
      ],
      "execution_count": 10,
      "outputs": [
        {
          "output_type": "stream",
          "text": [
            "Total number of samples in the original training data =  95\n",
            "Total number of samples in the generated data =  85\n"
          ],
          "name": "stdout"
        }
      ]
    },
    {
      "cell_type": "code",
      "metadata": {
        "id": "up3_e1Jtm1-y"
      },
      "source": [
        "#Also generate validation data\n",
        "validation_generator = TimeseriesGenerator(test, test, length=length ,batch_size=batch_size)"
      ],
      "execution_count": 13,
      "outputs": []
    },
    {
      "cell_type": "code",
      "metadata": {
        "id": "tRxSVlYRm7Cr"
      },
      "source": [
        "#Input dimensions are... (N x seq_size)\n",
        "num_features = 1 #Univariate example"
      ],
      "execution_count": 15,
      "outputs": []
    },
    {
      "cell_type": "code",
      "metadata": {
        "colab": {
          "base_uri": "https://localhost:8080/"
        },
        "id": "rUmghoXpnYPL",
        "outputId": "d527f006-582d-4bb6-c76b-7eca9115d885"
      },
      "source": [
        "model = Sequential()\n",
        "model.add(LSTM(50, activation='relu', return_sequences=True, input_shape=(length, num_features)))\n",
        "model.add(LSTM(50, activation='relu'))\n",
        "#model.add(Dense(32))\n",
        "model.add(Dense(1))\n",
        "model.compile(optimizer='adam', loss='mean_squared_error')\n",
        "\n",
        "model.summary()"
      ],
      "execution_count": 16,
      "outputs": [
        {
          "output_type": "stream",
          "text": [
            "Model: \"sequential\"\n",
            "_________________________________________________________________\n",
            "Layer (type)                 Output Shape              Param #   \n",
            "=================================================================\n",
            "lstm (LSTM)                  (None, 10, 50)            10400     \n",
            "_________________________________________________________________\n",
            "lstm_1 (LSTM)                (None, 50)                20200     \n",
            "_________________________________________________________________\n",
            "dense (Dense)                (None, 1)                 51        \n",
            "=================================================================\n",
            "Total params: 30,651\n",
            "Trainable params: 30,651\n",
            "Non-trainable params: 0\n",
            "_________________________________________________________________\n"
          ],
          "name": "stdout"
        }
      ]
    },
    {
      "cell_type": "code",
      "metadata": {
        "colab": {
          "base_uri": "https://localhost:8080/"
        },
        "id": "Dc1JCPcRni4S",
        "outputId": "59468298-ee2e-4fdd-8eba-69d10ba3323e"
      },
      "source": [
        "model.fit_generator(generator=train_generator, verbose=2, epochs=100, validation_data=validation_generator)"
      ],
      "execution_count": 17,
      "outputs": [
        {
          "output_type": "stream",
          "text": [
            "/usr/local/lib/python3.7/dist-packages/tensorflow/python/keras/engine/training.py:1844: UserWarning: `Model.fit_generator` is deprecated and will be removed in a future version. Please use `Model.fit`, which supports generators.\n",
            "  warnings.warn('`Model.fit_generator` is deprecated and '\n"
          ],
          "name": "stderr"
        },
        {
          "output_type": "stream",
          "text": [
            "Epoch 1/100\n",
            "85/85 - 3s - loss: 0.0144 - val_loss: 0.0296\n",
            "Epoch 2/100\n",
            "85/85 - 1s - loss: 0.0098 - val_loss: 0.0278\n",
            "Epoch 3/100\n",
            "85/85 - 1s - loss: 0.0086 - val_loss: 0.0278\n",
            "Epoch 4/100\n",
            "85/85 - 1s - loss: 0.0066 - val_loss: 0.0465\n",
            "Epoch 5/100\n",
            "85/85 - 1s - loss: 0.0070 - val_loss: 0.0267\n",
            "Epoch 6/100\n",
            "85/85 - 1s - loss: 0.0066 - val_loss: 0.0280\n",
            "Epoch 7/100\n",
            "85/85 - 1s - loss: 0.0062 - val_loss: 0.0490\n",
            "Epoch 8/100\n",
            "85/85 - 1s - loss: 0.0061 - val_loss: 0.0256\n",
            "Epoch 9/100\n",
            "85/85 - 1s - loss: 0.0062 - val_loss: 0.0266\n",
            "Epoch 10/100\n",
            "85/85 - 1s - loss: 0.0064 - val_loss: 0.0273\n",
            "Epoch 11/100\n",
            "85/85 - 1s - loss: 0.0060 - val_loss: 0.0388\n",
            "Epoch 12/100\n",
            "85/85 - 1s - loss: 0.0063 - val_loss: 0.0310\n",
            "Epoch 13/100\n",
            "85/85 - 1s - loss: 0.0064 - val_loss: 0.0336\n",
            "Epoch 14/100\n",
            "85/85 - 1s - loss: 0.0065 - val_loss: 0.0242\n",
            "Epoch 15/100\n",
            "85/85 - 1s - loss: 0.0058 - val_loss: 0.0256\n",
            "Epoch 16/100\n",
            "85/85 - 1s - loss: 0.0058 - val_loss: 0.0346\n",
            "Epoch 17/100\n",
            "85/85 - 1s - loss: 0.0060 - val_loss: 0.0256\n",
            "Epoch 18/100\n",
            "85/85 - 1s - loss: 0.0067 - val_loss: 0.0348\n",
            "Epoch 19/100\n",
            "85/85 - 1s - loss: 0.0056 - val_loss: 0.0227\n",
            "Epoch 20/100\n",
            "85/85 - 1s - loss: 0.0058 - val_loss: 0.0235\n",
            "Epoch 21/100\n",
            "85/85 - 1s - loss: 0.0052 - val_loss: 0.0318\n",
            "Epoch 22/100\n",
            "85/85 - 1s - loss: 0.0057 - val_loss: 0.0249\n",
            "Epoch 23/100\n",
            "85/85 - 1s - loss: 0.0052 - val_loss: 0.0249\n",
            "Epoch 24/100\n",
            "85/85 - 1s - loss: 0.0053 - val_loss: 0.0194\n",
            "Epoch 25/100\n",
            "85/85 - 1s - loss: 0.0048 - val_loss: 0.0313\n",
            "Epoch 26/100\n",
            "85/85 - 1s - loss: 0.0048 - val_loss: 0.0194\n",
            "Epoch 27/100\n",
            "85/85 - 1s - loss: 0.0051 - val_loss: 0.0209\n",
            "Epoch 28/100\n",
            "85/85 - 1s - loss: 0.0058 - val_loss: 0.0181\n",
            "Epoch 29/100\n",
            "85/85 - 1s - loss: 0.0050 - val_loss: 0.0182\n",
            "Epoch 30/100\n",
            "85/85 - 1s - loss: 0.0043 - val_loss: 0.0174\n",
            "Epoch 31/100\n",
            "85/85 - 1s - loss: 0.0043 - val_loss: 0.0295\n",
            "Epoch 32/100\n",
            "85/85 - 1s - loss: 0.0043 - val_loss: 0.0165\n",
            "Epoch 33/100\n",
            "85/85 - 1s - loss: 0.0045 - val_loss: 0.0122\n",
            "Epoch 34/100\n",
            "85/85 - 1s - loss: 0.0042 - val_loss: 0.0167\n",
            "Epoch 35/100\n",
            "85/85 - 1s - loss: 0.0038 - val_loss: 0.0148\n",
            "Epoch 36/100\n",
            "85/85 - 1s - loss: 0.0050 - val_loss: 0.0137\n",
            "Epoch 37/100\n",
            "85/85 - 1s - loss: 0.0038 - val_loss: 0.0093\n",
            "Epoch 38/100\n",
            "85/85 - 1s - loss: 0.0038 - val_loss: 0.0182\n",
            "Epoch 39/100\n",
            "85/85 - 1s - loss: 0.0035 - val_loss: 0.0085\n",
            "Epoch 40/100\n",
            "85/85 - 1s - loss: 0.0029 - val_loss: 0.0088\n",
            "Epoch 41/100\n",
            "85/85 - 1s - loss: 0.0032 - val_loss: 0.0072\n",
            "Epoch 42/100\n",
            "85/85 - 1s - loss: 0.0033 - val_loss: 0.0081\n",
            "Epoch 43/100\n",
            "85/85 - 1s - loss: 0.0030 - val_loss: 0.0079\n",
            "Epoch 44/100\n",
            "85/85 - 1s - loss: 0.0026 - val_loss: 0.0155\n",
            "Epoch 45/100\n",
            "85/85 - 1s - loss: 0.0031 - val_loss: 0.0074\n",
            "Epoch 46/100\n",
            "85/85 - 1s - loss: 0.0024 - val_loss: 0.0087\n",
            "Epoch 47/100\n",
            "85/85 - 1s - loss: 0.0028 - val_loss: 0.0101\n",
            "Epoch 48/100\n",
            "85/85 - 1s - loss: 0.0024 - val_loss: 0.0091\n",
            "Epoch 49/100\n",
            "85/85 - 1s - loss: 0.0026 - val_loss: 0.0101\n",
            "Epoch 50/100\n",
            "85/85 - 1s - loss: 0.0023 - val_loss: 0.0129\n",
            "Epoch 51/100\n",
            "85/85 - 1s - loss: 0.0022 - val_loss: 0.0075\n",
            "Epoch 52/100\n",
            "85/85 - 1s - loss: 0.0020 - val_loss: 0.0088\n",
            "Epoch 53/100\n",
            "85/85 - 1s - loss: 0.0024 - val_loss: 0.0083\n",
            "Epoch 54/100\n",
            "85/85 - 1s - loss: 0.0024 - val_loss: 0.0118\n",
            "Epoch 55/100\n",
            "85/85 - 1s - loss: 0.0019 - val_loss: 0.0264\n",
            "Epoch 56/100\n",
            "85/85 - 1s - loss: 0.0020 - val_loss: 0.0194\n",
            "Epoch 57/100\n",
            "85/85 - 1s - loss: 0.0018 - val_loss: 0.0107\n",
            "Epoch 58/100\n",
            "85/85 - 1s - loss: 0.0020 - val_loss: 0.0106\n",
            "Epoch 59/100\n",
            "85/85 - 1s - loss: 0.0017 - val_loss: 0.0098\n",
            "Epoch 60/100\n",
            "85/85 - 1s - loss: 0.0022 - val_loss: 0.0088\n",
            "Epoch 61/100\n",
            "85/85 - 1s - loss: 0.0016 - val_loss: 0.0094\n",
            "Epoch 62/100\n",
            "85/85 - 1s - loss: 0.0020 - val_loss: 0.0089\n",
            "Epoch 63/100\n",
            "85/85 - 1s - loss: 0.0017 - val_loss: 0.0165\n",
            "Epoch 64/100\n",
            "85/85 - 1s - loss: 0.0018 - val_loss: 0.0114\n",
            "Epoch 65/100\n",
            "85/85 - 1s - loss: 0.0015 - val_loss: 0.0237\n",
            "Epoch 66/100\n",
            "85/85 - 1s - loss: 0.0019 - val_loss: 0.0086\n",
            "Epoch 67/100\n",
            "85/85 - 1s - loss: 0.0016 - val_loss: 0.0103\n",
            "Epoch 68/100\n",
            "85/85 - 1s - loss: 0.0016 - val_loss: 0.0098\n",
            "Epoch 69/100\n",
            "85/85 - 1s - loss: 0.0015 - val_loss: 0.0104\n",
            "Epoch 70/100\n",
            "85/85 - 1s - loss: 0.0015 - val_loss: 0.0135\n",
            "Epoch 71/100\n",
            "85/85 - 1s - loss: 0.0018 - val_loss: 0.0161\n",
            "Epoch 72/100\n",
            "85/85 - 1s - loss: 0.0016 - val_loss: 0.0072\n",
            "Epoch 73/100\n",
            "85/85 - 1s - loss: 0.0017 - val_loss: 0.0234\n",
            "Epoch 74/100\n",
            "85/85 - 1s - loss: 0.0016 - val_loss: 0.0111\n",
            "Epoch 75/100\n",
            "85/85 - 1s - loss: 0.0013 - val_loss: 0.0108\n",
            "Epoch 76/100\n",
            "85/85 - 1s - loss: 0.0014 - val_loss: 0.0156\n",
            "Epoch 77/100\n",
            "85/85 - 1s - loss: 0.0014 - val_loss: 0.0165\n",
            "Epoch 78/100\n",
            "85/85 - 1s - loss: 0.0015 - val_loss: 0.0140\n",
            "Epoch 79/100\n",
            "85/85 - 1s - loss: 0.0015 - val_loss: 0.0122\n",
            "Epoch 80/100\n",
            "85/85 - 1s - loss: 0.0015 - val_loss: 0.0160\n",
            "Epoch 81/100\n",
            "85/85 - 1s - loss: 0.0014 - val_loss: 0.0151\n",
            "Epoch 82/100\n",
            "85/85 - 1s - loss: 0.0016 - val_loss: 0.0130\n",
            "Epoch 83/100\n",
            "85/85 - 1s - loss: 0.0013 - val_loss: 0.0141\n",
            "Epoch 84/100\n",
            "85/85 - 1s - loss: 0.0017 - val_loss: 0.0185\n",
            "Epoch 85/100\n",
            "85/85 - 1s - loss: 0.0014 - val_loss: 0.0177\n",
            "Epoch 86/100\n",
            "85/85 - 1s - loss: 0.0018 - val_loss: 0.0287\n",
            "Epoch 87/100\n",
            "85/85 - 1s - loss: 0.0013 - val_loss: 0.0165\n",
            "Epoch 88/100\n",
            "85/85 - 1s - loss: 0.0012 - val_loss: 0.0177\n",
            "Epoch 89/100\n",
            "85/85 - 1s - loss: 0.0013 - val_loss: 0.0150\n",
            "Epoch 90/100\n",
            "85/85 - 1s - loss: 0.0013 - val_loss: 0.0220\n",
            "Epoch 91/100\n",
            "85/85 - 1s - loss: 0.0013 - val_loss: 0.0228\n",
            "Epoch 92/100\n",
            "85/85 - 1s - loss: 0.0011 - val_loss: 0.0399\n",
            "Epoch 93/100\n",
            "85/85 - 1s - loss: 0.0010 - val_loss: 0.0463\n",
            "Epoch 94/100\n",
            "85/85 - 1s - loss: 0.0017 - val_loss: 0.0310\n",
            "Epoch 95/100\n",
            "85/85 - 1s - loss: 0.0016 - val_loss: 0.0269\n",
            "Epoch 96/100\n",
            "85/85 - 1s - loss: 0.0011 - val_loss: 0.0254\n",
            "Epoch 97/100\n",
            "85/85 - 1s - loss: 0.0011 - val_loss: 0.0475\n",
            "Epoch 98/100\n",
            "85/85 - 1s - loss: 0.0012 - val_loss: 0.0581\n",
            "Epoch 99/100\n",
            "85/85 - 1s - loss: 0.0013 - val_loss: 0.0451\n",
            "Epoch 100/100\n",
            "85/85 - 1s - loss: 0.0014 - val_loss: 0.0445\n"
          ],
          "name": "stdout"
        },
        {
          "output_type": "execute_result",
          "data": {
            "text/plain": [
              "<tensorflow.python.keras.callbacks.History at 0x7f171e8dd410>"
            ]
          },
          "metadata": {
            "tags": []
          },
          "execution_count": 17
        }
      ]
    },
    {
      "cell_type": "code",
      "metadata": {
        "id": "XFtJfUPJn2SL"
      },
      "source": [
        "trainPredict = model.predict(train_generator)\n",
        "testPredict = model.predict(validation_generator)\n",
        "\n",
        "trainPredict = scaler.inverse_transform(trainPredict)\n",
        "trainY_inverse = scaler.inverse_transform(train)\n",
        "testPredict = scaler.inverse_transform(testPredict)\n",
        "testY_inverse = scaler.inverse_transform(test)\n"
      ],
      "execution_count": 18,
      "outputs": []
    },
    {
      "cell_type": "code",
      "metadata": {
        "colab": {
          "base_uri": "https://localhost:8080/"
        },
        "id": "tinL12ygn6LL",
        "outputId": "723237d9-48bb-4930-f2da-07e061be81be"
      },
      "source": [
        "# calculate root mean squared error\n",
        "trainScore = math.sqrt(mean_squared_error(trainY_inverse[length:], trainPredict[:,0]))\n",
        "print('Train Score: %.2f RMSE' % (trainScore))"
      ],
      "execution_count": 19,
      "outputs": [
        {
          "output_type": "stream",
          "text": [
            "Train Score: 0.04 RMSE\n"
          ],
          "name": "stdout"
        }
      ]
    },
    {
      "cell_type": "code",
      "metadata": {
        "colab": {
          "base_uri": "https://localhost:8080/"
        },
        "id": "hjaVRQCUoC8j",
        "outputId": "361c22f2-320a-4aca-8a97-44c0036d571a"
      },
      "source": [
        "testScore = math.sqrt(mean_squared_error(testY_inverse[length:], testPredict[:,0]))\n",
        "print('Test Score: %.2f RMSE' % (testScore))"
      ],
      "execution_count": 20,
      "outputs": [
        {
          "output_type": "stream",
          "text": [
            "Test Score: 0.21 RMSE\n"
          ],
          "name": "stdout"
        }
      ]
    },
    {
      "cell_type": "code",
      "metadata": {
        "id": "tbfBY-FnoJJj"
      },
      "source": [
        "# shift train predictions for plotting\n",
        "#we must shift the predictions so that they align on the x-axis with the original dataset. \n",
        "trainPredictPlot = np.empty_like(dataset)\n",
        "trainPredictPlot[:, :] = np.nan\n",
        "trainPredictPlot[length:len(trainPredict)+length, :] = trainPredict"
      ],
      "execution_count": 21,
      "outputs": []
    },
    {
      "cell_type": "code",
      "metadata": {
        "id": "2_XV_G3AoOQr"
      },
      "source": [
        "# shift test predictions for plotting\n",
        "testPredictPlot = np.empty_like(dataset)\n",
        "testPredictPlot[:, :] = np.nan\n",
        "#testPredictPlot[len(trainPredict)+(seq_size*2)-1:len(dataset)-1, :] = testPredict\n",
        "testPredictPlot[len(train)+(length)-1:len(dataset)-1, :] = testPredict\n"
      ],
      "execution_count": 22,
      "outputs": []
    },
    {
      "cell_type": "code",
      "metadata": {
        "colab": {
          "base_uri": "https://localhost:8080/",
          "height": 265
        },
        "id": "4fzSrweaoQk8",
        "outputId": "fa457e85-1979-449f-8888-22a2141e51e5"
      },
      "source": [
        "plt.plot(scaler.inverse_transform(dataset))\n",
        "plt.plot(trainPredictPlot)\n",
        "plt.plot(testPredictPlot)\n",
        "plt.show()\n"
      ],
      "execution_count": 23,
      "outputs": [
        {
          "output_type": "display_data",
          "data": {
            "image/png": "[encoded data removed]",
            "text/plain": [
              "<Figure size 432x288 with 1 Axes>"
            ]
          },
          "metadata": {
            "tags": [],
            "needs_background": "light"
          }
        }
      ]
    }
  ]
}